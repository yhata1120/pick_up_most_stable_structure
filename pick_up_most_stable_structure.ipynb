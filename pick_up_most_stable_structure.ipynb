{
 "cells": [
  {
   "cell_type": "code",
   "execution_count": 4,
   "id": "cb242282",
   "metadata": {},
   "outputs": [],
   "source": [
    "import numpy as np\n",
    "import glob\n",
    "import os\n",
    "import shutil\n",
    "import matplotlib.pyplot as plt"
   ]
  },
  {
   "cell_type": "code",
   "execution_count": 4,
   "id": "887dfff0",
   "metadata": {},
   "outputs": [],
   "source": [
    "def get_stable_structure_cnid(save_dirname):\n",
    "    new_save_dirname = save_dirname + \"_stable\"\n",
    "    save_dir_path = os.path.abspath(save_dirname)\n",
    "    pardirname = os.path.dirname(save_dir_path)\n",
    "    new_save_dirpath = os.path.join(pardirname,new_save_dirname)\n",
    "    os.makedirs(new_save_dirpath,exist_ok=True)\n",
    "    for dirname in glob.glob(f\"{save_dirname}/*gb\"):\n",
    "#         a, b, dx, dy, dz, gbenergy, delta_x = np.loadtxt(f\"{dirname}/results\",unpack=True)\n",
    "        system_energy = np.loadtxt(f\"{dirname}/results\")[:,-1]\n",
    "        gbenergy = np.loadtxt(f\"{dirname}/results\")[:,-2]\n",
    "        a = np.loadtxt(f\"{dirname}/results\")[:,0]\n",
    "        b = np.loadtxt(f\"{dirname}/results\")[:,1]\n",
    "        most_stable_structure = f\"final{int(a[system_energy.argmin()])}_{int(b[system_energy.argmin()])}\"\n",
    "        gbdirname = dirname.split(\"/\")[-1]\n",
    "        print(gbdirname,gbenergy[system_energy.argmin()])\n",
    "        most_stable_structure_path = os.path.join(dirname,most_stable_structure)\n",
    "        new_gbdir_path = os.path.join(new_save_dirpath,gbdirname)\n",
    "        os.makedirs(new_gbdir_path,exist_ok=True)\n",
    "        new_most_stable_structure_path = os.path.join(new_gbdir_path,most_stable_structure)\n",
    "        shutil.copy(most_stable_structure_path,new_most_stable_structure_path)"
   ]
  },
  {
   "cell_type": "code",
   "execution_count": 5,
   "id": "d3f1d338",
   "metadata": {},
   "outputs": [
    {
     "name": "stdout",
     "output_type": "stream",
     "text": [
      "5_2_0_gb 1774.32932417276\n",
      "8_3_0_gb 1708.80269074445\n",
      "13_5_0_gb 1740.98983031065\n",
      "6_1_1_gb 718.079695628403\n",
      "8_1_1_gb 701.692428716252\n",
      "9_2_2_gb 696.041118592631\n"
     ]
    }
   ],
   "source": [
    "get_stable_structure_cnid(\"save_dir\")"
   ]
  },
  {
   "cell_type": "code",
   "execution_count": null,
   "id": "8528a200",
   "metadata": {},
   "outputs": [],
   "source": [
    "def get_stable_structure_cnid(save_dirname):\n",
    "    new_save_dirname = save_dirname + \"_stable\"\n",
    "    save_dir_path = os.path.abspath(save_dirname)\n",
    "    pardirname = os.path.dirname(save_dir_path)\n",
    "    new_save_dirpath = os.path.join(pardirname,new_save_dirname)\n",
    "    os.makedirs(new_save_dirpath,exist_ok=True)\n",
    "    for dirname in glob.glob(f\"{save_dirname}/*gb\"):\n",
    "        system_energy = np.loadtxt(f\"{dirname}/results\")[:,-1]\n",
    "        gbenergy = np.loadtxt(f\"{dirname}/results\")[:,-2]\n",
    "        a = np.loadtxt(f\"{dirname}/results\")[:,0]\n",
    "        b = np.loadtxt(f\"{dirname}/results\")[:,1]\n",
    "        most_stable_structure = f\"final{int(a[system_energy.argmin()])}_{int(b[system_energy.argmin()])}\"\n",
    "        gbdirname = dirname.split(\"/\")[-1]\n",
    "        print(gbdirname,gbenergy[system_energy.argmin()])\n",
    "        most_stable_structure_path = os.path.join(dirname,most_stable_structure)\n",
    "        new_gbdir_path = os.path.join(new_save_dirpath,gbdirname)\n",
    "        os.makedirs(new_gbdir_path,exist_ok=True)\n",
    "        new_most_stable_structure_path = os.path.join(new_gbdir_path,most_stable_structure)\n",
    "        shutil.copy(most_stable_structure_path,new_most_stable_structure_path)"
   ]
  },
  {
   "cell_type": "code",
   "execution_count": null,
   "id": "40801463",
   "metadata": {},
   "outputs": [],
   "source": []
  },
  {
   "cell_type": "code",
   "execution_count": 2,
   "id": "d019aebc",
   "metadata": {},
   "outputs": [],
   "source": [
    "savedir_abspath = \"/homenfs1/yhata/calc/220707/extract_gb_information/twist_cnid\""
   ]
  },
  {
   "cell_type": "code",
   "execution_count": 8,
   "id": "0447c3e9",
   "metadata": {},
   "outputs": [],
   "source": [
    "os.chdir(\"/homenfs1/yhata/calc/220707/extract_gb_information\")"
   ]
  },
  {
   "cell_type": "code",
   "execution_count": 9,
   "id": "7522fe9a",
   "metadata": {},
   "outputs": [
    {
     "data": {
      "text/plain": [
       "'/homenfs1/yhata/calc/220707/extract_gb_information'"
      ]
     },
     "execution_count": 9,
     "metadata": {},
     "output_type": "execute_result"
    }
   ],
   "source": [
    "os.getcwd()"
   ]
  },
  {
   "cell_type": "code",
   "execution_count": 12,
   "id": "9d8006f8",
   "metadata": {},
   "outputs": [],
   "source": [
    "savedir = \"twist_cnid\""
   ]
  },
  {
   "cell_type": "code",
   "execution_count": 14,
   "id": "9d9e0f84",
   "metadata": {
    "scrolled": true
   },
   "outputs": [
    {
     "data": {
      "text/plain": [
       "'twist_cnid/*/*/results'"
      ]
     },
     "execution_count": 14,
     "metadata": {},
     "output_type": "execute_result"
    }
   ],
   "source": [
    "f\"{savedir}/*/*/results\""
   ]
  },
  {
   "cell_type": "code",
   "execution_count": 15,
   "id": "e6993647",
   "metadata": {},
   "outputs": [],
   "source": [
    "hikisuu = \"twist_cnid/*/*/results\""
   ]
  },
  {
   "cell_type": "code",
   "execution_count": 17,
   "id": "3c3da968",
   "metadata": {},
   "outputs": [],
   "source": [
    "first_argument = \"twist_cnid/*/*/results\""
   ]
  },
  {
   "cell_type": "code",
   "execution_count": 18,
   "id": "7f425f0a",
   "metadata": {},
   "outputs": [],
   "source": [
    "second_argument = \"/homenfs1/yhata/calc/220711\""
   ]
  },
  {
   "cell_type": "code",
   "execution_count": 25,
   "id": "5de27198",
   "metadata": {},
   "outputs": [],
   "source": [
    "import shutil"
   ]
  },
  {
   "cell_type": "code",
   "execution_count": 31,
   "id": "a1b84521",
   "metadata": {
    "scrolled": true
   },
   "outputs": [],
   "source": [
    " def copy_including_parents(first_argument,second_argument):\n",
    "    for filename in glob.glob(f\"{first_argument}\"):\n",
    "        filename_dash = os.path.join(second_argument,filename)\n",
    "        print(filename_dash)\n",
    "        print(os.path.dirname(filename_dash))\n",
    "        os.makedirs(os.path.dirname(filename_dash))\n",
    "        shutil.copy(filename,os.path.join(os.path.dirname(filename_dash),filename_dash.split(\"/\")[-1]))"
   ]
  },
  {
   "cell_type": "code",
   "execution_count": 32,
   "id": "007e81db",
   "metadata": {},
   "outputs": [
    {
     "name": "stdout",
     "output_type": "stream",
     "text": [
      "/homenfs1/yhata/calc/220711/twist_cnid/Cu100/13_gb/results\n",
      "/homenfs1/yhata/calc/220711/twist_cnid/Cu100/13_gb\n",
      "/homenfs1/yhata/calc/220711/twist_cnid/Cu100/17_gb/results\n",
      "/homenfs1/yhata/calc/220711/twist_cnid/Cu100/17_gb\n",
      "/homenfs1/yhata/calc/220711/twist_cnid/Cu100/25_gb/results\n",
      "/homenfs1/yhata/calc/220711/twist_cnid/Cu100/25_gb\n",
      "/homenfs1/yhata/calc/220711/twist_cnid/Cu100/29_gb/results\n",
      "/homenfs1/yhata/calc/220711/twist_cnid/Cu100/29_gb\n",
      "/homenfs1/yhata/calc/220711/twist_cnid/Cu100/37_gb/results\n",
      "/homenfs1/yhata/calc/220711/twist_cnid/Cu100/37_gb\n",
      "/homenfs1/yhata/calc/220711/twist_cnid/Cu100/41_gb/results\n",
      "/homenfs1/yhata/calc/220711/twist_cnid/Cu100/41_gb\n",
      "/homenfs1/yhata/calc/220711/twist_cnid/Cu100/53_gb/results\n",
      "/homenfs1/yhata/calc/220711/twist_cnid/Cu100/53_gb\n",
      "/homenfs1/yhata/calc/220711/twist_cnid/Cu100/5_gb/results\n",
      "/homenfs1/yhata/calc/220711/twist_cnid/Cu100/5_gb\n",
      "/homenfs1/yhata/calc/220711/twist_cnid/Cu100/61_gb/results\n",
      "/homenfs1/yhata/calc/220711/twist_cnid/Cu100/61_gb\n",
      "/homenfs1/yhata/calc/220711/twist_cnid/Cu100/65_gb/results\n",
      "/homenfs1/yhata/calc/220711/twist_cnid/Cu100/65_gb\n",
      "/homenfs1/yhata/calc/220711/twist_cnid/Cu100/73_gb/results\n",
      "/homenfs1/yhata/calc/220711/twist_cnid/Cu100/73_gb\n",
      "/homenfs1/yhata/calc/220711/twist_cnid/Cu100/85_gb/results\n",
      "/homenfs1/yhata/calc/220711/twist_cnid/Cu100/85_gb\n",
      "/homenfs1/yhata/calc/220711/twist_cnid/Cu100/89_gb/results\n",
      "/homenfs1/yhata/calc/220711/twist_cnid/Cu100/89_gb\n",
      "/homenfs1/yhata/calc/220711/twist_cnid/Cu100/97_gb/results\n",
      "/homenfs1/yhata/calc/220711/twist_cnid/Cu100/97_gb\n",
      "/homenfs1/yhata/calc/220711/twist_cnid/Cu110/11_gb/results\n",
      "/homenfs1/yhata/calc/220711/twist_cnid/Cu110/11_gb\n",
      "/homenfs1/yhata/calc/220711/twist_cnid/Cu110/17_gb/results\n",
      "/homenfs1/yhata/calc/220711/twist_cnid/Cu110/17_gb\n",
      "/homenfs1/yhata/calc/220711/twist_cnid/Cu110/19_gb/results\n",
      "/homenfs1/yhata/calc/220711/twist_cnid/Cu110/19_gb\n",
      "/homenfs1/yhata/calc/220711/twist_cnid/Cu110/27_gb/results\n",
      "/homenfs1/yhata/calc/220711/twist_cnid/Cu110/27_gb\n",
      "/homenfs1/yhata/calc/220711/twist_cnid/Cu110/33_gb/results\n",
      "/homenfs1/yhata/calc/220711/twist_cnid/Cu110/33_gb\n",
      "/homenfs1/yhata/calc/220711/twist_cnid/Cu110/3_gb/results\n",
      "/homenfs1/yhata/calc/220711/twist_cnid/Cu110/3_gb\n",
      "/homenfs1/yhata/calc/220711/twist_cnid/Cu110/41_gb/results\n",
      "/homenfs1/yhata/calc/220711/twist_cnid/Cu110/41_gb\n",
      "/homenfs1/yhata/calc/220711/twist_cnid/Cu110/43_gb/results\n",
      "/homenfs1/yhata/calc/220711/twist_cnid/Cu110/43_gb\n",
      "/homenfs1/yhata/calc/220711/twist_cnid/Cu110/51_gb/results\n",
      "/homenfs1/yhata/calc/220711/twist_cnid/Cu110/51_gb\n",
      "/homenfs1/yhata/calc/220711/twist_cnid/Cu110/57_gb/results\n",
      "/homenfs1/yhata/calc/220711/twist_cnid/Cu110/57_gb\n",
      "/homenfs1/yhata/calc/220711/twist_cnid/Cu110/59_gb/results\n",
      "/homenfs1/yhata/calc/220711/twist_cnid/Cu110/59_gb\n",
      "/homenfs1/yhata/calc/220711/twist_cnid/Cu110/67_gb/results\n",
      "/homenfs1/yhata/calc/220711/twist_cnid/Cu110/67_gb\n",
      "/homenfs1/yhata/calc/220711/twist_cnid/Cu110/73_gb/results\n",
      "/homenfs1/yhata/calc/220711/twist_cnid/Cu110/73_gb\n",
      "/homenfs1/yhata/calc/220711/twist_cnid/Cu110/81_gb/results\n",
      "/homenfs1/yhata/calc/220711/twist_cnid/Cu110/81_gb\n",
      "/homenfs1/yhata/calc/220711/twist_cnid/Cu110/83_gb/results\n",
      "/homenfs1/yhata/calc/220711/twist_cnid/Cu110/83_gb\n",
      "/homenfs1/yhata/calc/220711/twist_cnid/Cu110/89_gb/results\n",
      "/homenfs1/yhata/calc/220711/twist_cnid/Cu110/89_gb\n",
      "/homenfs1/yhata/calc/220711/twist_cnid/Cu110/97_gb/results\n",
      "/homenfs1/yhata/calc/220711/twist_cnid/Cu110/97_gb\n",
      "/homenfs1/yhata/calc/220711/twist_cnid/Cu110/99_gb/results\n",
      "/homenfs1/yhata/calc/220711/twist_cnid/Cu110/99_gb\n",
      "/homenfs1/yhata/calc/220711/twist_cnid/Cu110/9_gb/results\n",
      "/homenfs1/yhata/calc/220711/twist_cnid/Cu110/9_gb\n",
      "/homenfs1/yhata/calc/220711/twist_cnid/Cu111/13_gb/results\n",
      "/homenfs1/yhata/calc/220711/twist_cnid/Cu111/13_gb\n",
      "/homenfs1/yhata/calc/220711/twist_cnid/Cu111/19_gb/results\n",
      "/homenfs1/yhata/calc/220711/twist_cnid/Cu111/19_gb\n",
      "/homenfs1/yhata/calc/220711/twist_cnid/Cu111/21_gb/results\n",
      "/homenfs1/yhata/calc/220711/twist_cnid/Cu111/21_gb\n",
      "/homenfs1/yhata/calc/220711/twist_cnid/Cu111/31_gb/results\n",
      "/homenfs1/yhata/calc/220711/twist_cnid/Cu111/31_gb\n",
      "/homenfs1/yhata/calc/220711/twist_cnid/Cu111/37_gb/results\n",
      "/homenfs1/yhata/calc/220711/twist_cnid/Cu111/37_gb\n",
      "/homenfs1/yhata/calc/220711/twist_cnid/Cu111/39_gb/results\n",
      "/homenfs1/yhata/calc/220711/twist_cnid/Cu111/39_gb\n",
      "/homenfs1/yhata/calc/220711/twist_cnid/Cu111/3_gb/results\n",
      "/homenfs1/yhata/calc/220711/twist_cnid/Cu111/3_gb\n",
      "/homenfs1/yhata/calc/220711/twist_cnid/Cu111/43_gb/results\n",
      "/homenfs1/yhata/calc/220711/twist_cnid/Cu111/43_gb\n",
      "/homenfs1/yhata/calc/220711/twist_cnid/Cu111/49_gb/results\n",
      "/homenfs1/yhata/calc/220711/twist_cnid/Cu111/49_gb\n",
      "/homenfs1/yhata/calc/220711/twist_cnid/Cu111/57_gb/results\n",
      "/homenfs1/yhata/calc/220711/twist_cnid/Cu111/57_gb\n",
      "/homenfs1/yhata/calc/220711/twist_cnid/Cu111/61_gb/results\n",
      "/homenfs1/yhata/calc/220711/twist_cnid/Cu111/61_gb\n",
      "/homenfs1/yhata/calc/220711/twist_cnid/Cu111/67_gb/results\n",
      "/homenfs1/yhata/calc/220711/twist_cnid/Cu111/67_gb\n",
      "/homenfs1/yhata/calc/220711/twist_cnid/Cu111/73_gb/results\n",
      "/homenfs1/yhata/calc/220711/twist_cnid/Cu111/73_gb\n",
      "/homenfs1/yhata/calc/220711/twist_cnid/Cu111/79_gb/results\n",
      "/homenfs1/yhata/calc/220711/twist_cnid/Cu111/79_gb\n",
      "/homenfs1/yhata/calc/220711/twist_cnid/Cu111/7_gb/results\n",
      "/homenfs1/yhata/calc/220711/twist_cnid/Cu111/7_gb\n",
      "/homenfs1/yhata/calc/220711/twist_cnid/Cu111/91_gb/results\n",
      "/homenfs1/yhata/calc/220711/twist_cnid/Cu111/91_gb\n",
      "/homenfs1/yhata/calc/220711/twist_cnid/Cu111/93_gb/results\n",
      "/homenfs1/yhata/calc/220711/twist_cnid/Cu111/93_gb\n",
      "/homenfs1/yhata/calc/220711/twist_cnid/Cu111/97_gb/results\n",
      "/homenfs1/yhata/calc/220711/twist_cnid/Cu111/97_gb\n",
      "/homenfs1/yhata/calc/220711/twist_cnid/Mo100/13_gb/results\n",
      "/homenfs1/yhata/calc/220711/twist_cnid/Mo100/13_gb\n",
      "/homenfs1/yhata/calc/220711/twist_cnid/Mo100/17_gb/results\n",
      "/homenfs1/yhata/calc/220711/twist_cnid/Mo100/17_gb\n",
      "/homenfs1/yhata/calc/220711/twist_cnid/Mo100/25_gb/results\n",
      "/homenfs1/yhata/calc/220711/twist_cnid/Mo100/25_gb\n",
      "/homenfs1/yhata/calc/220711/twist_cnid/Mo100/29_gb/results\n",
      "/homenfs1/yhata/calc/220711/twist_cnid/Mo100/29_gb\n",
      "/homenfs1/yhata/calc/220711/twist_cnid/Mo100/37_gb/results\n",
      "/homenfs1/yhata/calc/220711/twist_cnid/Mo100/37_gb\n",
      "/homenfs1/yhata/calc/220711/twist_cnid/Mo100/41_gb/results\n",
      "/homenfs1/yhata/calc/220711/twist_cnid/Mo100/41_gb\n",
      "/homenfs1/yhata/calc/220711/twist_cnid/Mo100/53_gb/results\n",
      "/homenfs1/yhata/calc/220711/twist_cnid/Mo100/53_gb\n",
      "/homenfs1/yhata/calc/220711/twist_cnid/Mo100/5_gb/results\n",
      "/homenfs1/yhata/calc/220711/twist_cnid/Mo100/5_gb\n",
      "/homenfs1/yhata/calc/220711/twist_cnid/Mo100/61_gb/results\n",
      "/homenfs1/yhata/calc/220711/twist_cnid/Mo100/61_gb\n",
      "/homenfs1/yhata/calc/220711/twist_cnid/Mo100/65_gb/results\n",
      "/homenfs1/yhata/calc/220711/twist_cnid/Mo100/65_gb\n",
      "/homenfs1/yhata/calc/220711/twist_cnid/Mo100/73_gb/results\n",
      "/homenfs1/yhata/calc/220711/twist_cnid/Mo100/73_gb\n",
      "/homenfs1/yhata/calc/220711/twist_cnid/Mo100/85_gb/results\n",
      "/homenfs1/yhata/calc/220711/twist_cnid/Mo100/85_gb\n",
      "/homenfs1/yhata/calc/220711/twist_cnid/Mo100/89_gb/results\n",
      "/homenfs1/yhata/calc/220711/twist_cnid/Mo100/89_gb\n",
      "/homenfs1/yhata/calc/220711/twist_cnid/Mo100/97_gb/results\n",
      "/homenfs1/yhata/calc/220711/twist_cnid/Mo100/97_gb\n",
      "/homenfs1/yhata/calc/220711/twist_cnid/Mo110/11_gb/results\n",
      "/homenfs1/yhata/calc/220711/twist_cnid/Mo110/11_gb\n",
      "/homenfs1/yhata/calc/220711/twist_cnid/Mo110/17_gb/results\n",
      "/homenfs1/yhata/calc/220711/twist_cnid/Mo110/17_gb\n",
      "/homenfs1/yhata/calc/220711/twist_cnid/Mo110/19_gb/results\n",
      "/homenfs1/yhata/calc/220711/twist_cnid/Mo110/19_gb\n",
      "/homenfs1/yhata/calc/220711/twist_cnid/Mo110/27_gb/results\n",
      "/homenfs1/yhata/calc/220711/twist_cnid/Mo110/27_gb\n",
      "/homenfs1/yhata/calc/220711/twist_cnid/Mo110/33_gb/results\n",
      "/homenfs1/yhata/calc/220711/twist_cnid/Mo110/33_gb\n",
      "/homenfs1/yhata/calc/220711/twist_cnid/Mo110/3_gb/results\n",
      "/homenfs1/yhata/calc/220711/twist_cnid/Mo110/3_gb\n",
      "/homenfs1/yhata/calc/220711/twist_cnid/Mo110/41_gb/results\n",
      "/homenfs1/yhata/calc/220711/twist_cnid/Mo110/41_gb\n",
      "/homenfs1/yhata/calc/220711/twist_cnid/Mo110/43_gb/results\n",
      "/homenfs1/yhata/calc/220711/twist_cnid/Mo110/43_gb\n",
      "/homenfs1/yhata/calc/220711/twist_cnid/Mo110/51_gb/results\n",
      "/homenfs1/yhata/calc/220711/twist_cnid/Mo110/51_gb\n",
      "/homenfs1/yhata/calc/220711/twist_cnid/Mo110/57_gb/results\n",
      "/homenfs1/yhata/calc/220711/twist_cnid/Mo110/57_gb\n",
      "/homenfs1/yhata/calc/220711/twist_cnid/Mo110/59_gb/results\n",
      "/homenfs1/yhata/calc/220711/twist_cnid/Mo110/59_gb\n",
      "/homenfs1/yhata/calc/220711/twist_cnid/Mo110/67_gb/results\n",
      "/homenfs1/yhata/calc/220711/twist_cnid/Mo110/67_gb\n",
      "/homenfs1/yhata/calc/220711/twist_cnid/Mo110/73_gb/results\n",
      "/homenfs1/yhata/calc/220711/twist_cnid/Mo110/73_gb\n",
      "/homenfs1/yhata/calc/220711/twist_cnid/Mo110/81_gb/results\n",
      "/homenfs1/yhata/calc/220711/twist_cnid/Mo110/81_gb\n",
      "/homenfs1/yhata/calc/220711/twist_cnid/Mo110/83_gb/results\n",
      "/homenfs1/yhata/calc/220711/twist_cnid/Mo110/83_gb\n",
      "/homenfs1/yhata/calc/220711/twist_cnid/Mo110/89_gb/results\n",
      "/homenfs1/yhata/calc/220711/twist_cnid/Mo110/89_gb\n",
      "/homenfs1/yhata/calc/220711/twist_cnid/Mo110/97_gb/results\n",
      "/homenfs1/yhata/calc/220711/twist_cnid/Mo110/97_gb\n",
      "/homenfs1/yhata/calc/220711/twist_cnid/Mo110/99_gb/results\n",
      "/homenfs1/yhata/calc/220711/twist_cnid/Mo110/99_gb\n",
      "/homenfs1/yhata/calc/220711/twist_cnid/Mo110/9_gb/results\n",
      "/homenfs1/yhata/calc/220711/twist_cnid/Mo110/9_gb\n",
      "/homenfs1/yhata/calc/220711/twist_cnid/Mo111/13_gb/results\n",
      "/homenfs1/yhata/calc/220711/twist_cnid/Mo111/13_gb\n",
      "/homenfs1/yhata/calc/220711/twist_cnid/Mo111/19_gb/results\n",
      "/homenfs1/yhata/calc/220711/twist_cnid/Mo111/19_gb\n",
      "/homenfs1/yhata/calc/220711/twist_cnid/Mo111/21_gb/results\n",
      "/homenfs1/yhata/calc/220711/twist_cnid/Mo111/21_gb\n",
      "/homenfs1/yhata/calc/220711/twist_cnid/Mo111/31_gb/results\n",
      "/homenfs1/yhata/calc/220711/twist_cnid/Mo111/31_gb\n",
      "/homenfs1/yhata/calc/220711/twist_cnid/Mo111/37_gb/results\n",
      "/homenfs1/yhata/calc/220711/twist_cnid/Mo111/37_gb\n",
      "/homenfs1/yhata/calc/220711/twist_cnid/Mo111/39_gb/results\n",
      "/homenfs1/yhata/calc/220711/twist_cnid/Mo111/39_gb\n",
      "/homenfs1/yhata/calc/220711/twist_cnid/Mo111/3_gb/results\n",
      "/homenfs1/yhata/calc/220711/twist_cnid/Mo111/3_gb\n",
      "/homenfs1/yhata/calc/220711/twist_cnid/Mo111/43_gb/results\n",
      "/homenfs1/yhata/calc/220711/twist_cnid/Mo111/43_gb\n",
      "/homenfs1/yhata/calc/220711/twist_cnid/Mo111/49_gb/results\n",
      "/homenfs1/yhata/calc/220711/twist_cnid/Mo111/49_gb\n",
      "/homenfs1/yhata/calc/220711/twist_cnid/Mo111/57_gb/results\n",
      "/homenfs1/yhata/calc/220711/twist_cnid/Mo111/57_gb\n",
      "/homenfs1/yhata/calc/220711/twist_cnid/Mo111/61_gb/results\n",
      "/homenfs1/yhata/calc/220711/twist_cnid/Mo111/61_gb\n",
      "/homenfs1/yhata/calc/220711/twist_cnid/Mo111/67_gb/results\n",
      "/homenfs1/yhata/calc/220711/twist_cnid/Mo111/67_gb\n",
      "/homenfs1/yhata/calc/220711/twist_cnid/Mo111/73_gb/results\n",
      "/homenfs1/yhata/calc/220711/twist_cnid/Mo111/73_gb\n",
      "/homenfs1/yhata/calc/220711/twist_cnid/Mo111/79_gb/results\n",
      "/homenfs1/yhata/calc/220711/twist_cnid/Mo111/79_gb\n",
      "/homenfs1/yhata/calc/220711/twist_cnid/Mo111/7_gb/results\n",
      "/homenfs1/yhata/calc/220711/twist_cnid/Mo111/7_gb\n",
      "/homenfs1/yhata/calc/220711/twist_cnid/Mo111/91_gb/results\n",
      "/homenfs1/yhata/calc/220711/twist_cnid/Mo111/91_gb\n",
      "/homenfs1/yhata/calc/220711/twist_cnid/Mo111/93_gb/results\n",
      "/homenfs1/yhata/calc/220711/twist_cnid/Mo111/93_gb\n",
      "/homenfs1/yhata/calc/220711/twist_cnid/Mo111/97_gb/results\n",
      "/homenfs1/yhata/calc/220711/twist_cnid/Mo111/97_gb\n"
     ]
    }
   ],
   "source": [
    "copy_including_parents(first_argument,second_argument)"
   ]
  },
  {
   "cell_type": "code",
   "execution_count": null,
   "id": "674358a5",
   "metadata": {},
   "outputs": [],
   "source": []
  },
  {
   "cell_type": "code",
   "execution_count": null,
   "id": "7008c897",
   "metadata": {},
   "outputs": [],
   "source": []
  },
  {
   "cell_type": "code",
   "execution_count": null,
   "id": "48e829ef",
   "metadata": {},
   "outputs": [],
   "source": []
  },
  {
   "cell_type": "code",
   "execution_count": 7,
   "id": "fe663fea",
   "metadata": {
    "scrolled": true
   },
   "outputs": [
    {
     "data": {
      "text/plain": [
       "['/homenfs1/yhata/calc/220707/extract_gb_information/twist_cnid/Cu100/13_gb/results',\n",
       " '/homenfs1/yhata/calc/220707/extract_gb_information/twist_cnid/Cu100/17_gb/results',\n",
       " '/homenfs1/yhata/calc/220707/extract_gb_information/twist_cnid/Cu100/25_gb/results',\n",
       " '/homenfs1/yhata/calc/220707/extract_gb_information/twist_cnid/Cu100/29_gb/results',\n",
       " '/homenfs1/yhata/calc/220707/extract_gb_information/twist_cnid/Cu100/37_gb/results',\n",
       " '/homenfs1/yhata/calc/220707/extract_gb_information/twist_cnid/Cu100/41_gb/results',\n",
       " '/homenfs1/yhata/calc/220707/extract_gb_information/twist_cnid/Cu100/53_gb/results',\n",
       " '/homenfs1/yhata/calc/220707/extract_gb_information/twist_cnid/Cu100/5_gb/results',\n",
       " '/homenfs1/yhata/calc/220707/extract_gb_information/twist_cnid/Cu100/61_gb/results',\n",
       " '/homenfs1/yhata/calc/220707/extract_gb_information/twist_cnid/Cu100/65_gb/results',\n",
       " '/homenfs1/yhata/calc/220707/extract_gb_information/twist_cnid/Cu100/73_gb/results',\n",
       " '/homenfs1/yhata/calc/220707/extract_gb_information/twist_cnid/Cu100/85_gb/results',\n",
       " '/homenfs1/yhata/calc/220707/extract_gb_information/twist_cnid/Cu100/89_gb/results',\n",
       " '/homenfs1/yhata/calc/220707/extract_gb_information/twist_cnid/Cu100/97_gb/results',\n",
       " '/homenfs1/yhata/calc/220707/extract_gb_information/twist_cnid/Cu110/11_gb/results',\n",
       " '/homenfs1/yhata/calc/220707/extract_gb_information/twist_cnid/Cu110/17_gb/results',\n",
       " '/homenfs1/yhata/calc/220707/extract_gb_information/twist_cnid/Cu110/19_gb/results',\n",
       " '/homenfs1/yhata/calc/220707/extract_gb_information/twist_cnid/Cu110/27_gb/results',\n",
       " '/homenfs1/yhata/calc/220707/extract_gb_information/twist_cnid/Cu110/33_gb/results',\n",
       " '/homenfs1/yhata/calc/220707/extract_gb_information/twist_cnid/Cu110/3_gb/results',\n",
       " '/homenfs1/yhata/calc/220707/extract_gb_information/twist_cnid/Cu110/41_gb/results',\n",
       " '/homenfs1/yhata/calc/220707/extract_gb_information/twist_cnid/Cu110/43_gb/results',\n",
       " '/homenfs1/yhata/calc/220707/extract_gb_information/twist_cnid/Cu110/51_gb/results',\n",
       " '/homenfs1/yhata/calc/220707/extract_gb_information/twist_cnid/Cu110/57_gb/results',\n",
       " '/homenfs1/yhata/calc/220707/extract_gb_information/twist_cnid/Cu110/59_gb/results',\n",
       " '/homenfs1/yhata/calc/220707/extract_gb_information/twist_cnid/Cu110/67_gb/results',\n",
       " '/homenfs1/yhata/calc/220707/extract_gb_information/twist_cnid/Cu110/73_gb/results',\n",
       " '/homenfs1/yhata/calc/220707/extract_gb_information/twist_cnid/Cu110/81_gb/results',\n",
       " '/homenfs1/yhata/calc/220707/extract_gb_information/twist_cnid/Cu110/83_gb/results',\n",
       " '/homenfs1/yhata/calc/220707/extract_gb_information/twist_cnid/Cu110/89_gb/results',\n",
       " '/homenfs1/yhata/calc/220707/extract_gb_information/twist_cnid/Cu110/97_gb/results',\n",
       " '/homenfs1/yhata/calc/220707/extract_gb_information/twist_cnid/Cu110/99_gb/results',\n",
       " '/homenfs1/yhata/calc/220707/extract_gb_information/twist_cnid/Cu110/9_gb/results',\n",
       " '/homenfs1/yhata/calc/220707/extract_gb_information/twist_cnid/Cu111/13_gb/results',\n",
       " '/homenfs1/yhata/calc/220707/extract_gb_information/twist_cnid/Cu111/19_gb/results',\n",
       " '/homenfs1/yhata/calc/220707/extract_gb_information/twist_cnid/Cu111/21_gb/results',\n",
       " '/homenfs1/yhata/calc/220707/extract_gb_information/twist_cnid/Cu111/31_gb/results',\n",
       " '/homenfs1/yhata/calc/220707/extract_gb_information/twist_cnid/Cu111/37_gb/results',\n",
       " '/homenfs1/yhata/calc/220707/extract_gb_information/twist_cnid/Cu111/39_gb/results',\n",
       " '/homenfs1/yhata/calc/220707/extract_gb_information/twist_cnid/Cu111/3_gb/results',\n",
       " '/homenfs1/yhata/calc/220707/extract_gb_information/twist_cnid/Cu111/43_gb/results',\n",
       " '/homenfs1/yhata/calc/220707/extract_gb_information/twist_cnid/Cu111/49_gb/results',\n",
       " '/homenfs1/yhata/calc/220707/extract_gb_information/twist_cnid/Cu111/57_gb/results',\n",
       " '/homenfs1/yhata/calc/220707/extract_gb_information/twist_cnid/Cu111/61_gb/results',\n",
       " '/homenfs1/yhata/calc/220707/extract_gb_information/twist_cnid/Cu111/67_gb/results',\n",
       " '/homenfs1/yhata/calc/220707/extract_gb_information/twist_cnid/Cu111/73_gb/results',\n",
       " '/homenfs1/yhata/calc/220707/extract_gb_information/twist_cnid/Cu111/79_gb/results',\n",
       " '/homenfs1/yhata/calc/220707/extract_gb_information/twist_cnid/Cu111/7_gb/results',\n",
       " '/homenfs1/yhata/calc/220707/extract_gb_information/twist_cnid/Cu111/91_gb/results',\n",
       " '/homenfs1/yhata/calc/220707/extract_gb_information/twist_cnid/Cu111/93_gb/results',\n",
       " '/homenfs1/yhata/calc/220707/extract_gb_information/twist_cnid/Cu111/97_gb/results',\n",
       " '/homenfs1/yhata/calc/220707/extract_gb_information/twist_cnid/Mo100/13_gb/results',\n",
       " '/homenfs1/yhata/calc/220707/extract_gb_information/twist_cnid/Mo100/17_gb/results',\n",
       " '/homenfs1/yhata/calc/220707/extract_gb_information/twist_cnid/Mo100/25_gb/results',\n",
       " '/homenfs1/yhata/calc/220707/extract_gb_information/twist_cnid/Mo100/29_gb/results',\n",
       " '/homenfs1/yhata/calc/220707/extract_gb_information/twist_cnid/Mo100/37_gb/results',\n",
       " '/homenfs1/yhata/calc/220707/extract_gb_information/twist_cnid/Mo100/41_gb/results',\n",
       " '/homenfs1/yhata/calc/220707/extract_gb_information/twist_cnid/Mo100/53_gb/results',\n",
       " '/homenfs1/yhata/calc/220707/extract_gb_information/twist_cnid/Mo100/5_gb/results',\n",
       " '/homenfs1/yhata/calc/220707/extract_gb_information/twist_cnid/Mo100/61_gb/results',\n",
       " '/homenfs1/yhata/calc/220707/extract_gb_information/twist_cnid/Mo100/65_gb/results',\n",
       " '/homenfs1/yhata/calc/220707/extract_gb_information/twist_cnid/Mo100/73_gb/results',\n",
       " '/homenfs1/yhata/calc/220707/extract_gb_information/twist_cnid/Mo100/85_gb/results',\n",
       " '/homenfs1/yhata/calc/220707/extract_gb_information/twist_cnid/Mo100/89_gb/results',\n",
       " '/homenfs1/yhata/calc/220707/extract_gb_information/twist_cnid/Mo100/97_gb/results',\n",
       " '/homenfs1/yhata/calc/220707/extract_gb_information/twist_cnid/Mo110/11_gb/results',\n",
       " '/homenfs1/yhata/calc/220707/extract_gb_information/twist_cnid/Mo110/17_gb/results',\n",
       " '/homenfs1/yhata/calc/220707/extract_gb_information/twist_cnid/Mo110/19_gb/results',\n",
       " '/homenfs1/yhata/calc/220707/extract_gb_information/twist_cnid/Mo110/27_gb/results',\n",
       " '/homenfs1/yhata/calc/220707/extract_gb_information/twist_cnid/Mo110/33_gb/results',\n",
       " '/homenfs1/yhata/calc/220707/extract_gb_information/twist_cnid/Mo110/3_gb/results',\n",
       " '/homenfs1/yhata/calc/220707/extract_gb_information/twist_cnid/Mo110/41_gb/results',\n",
       " '/homenfs1/yhata/calc/220707/extract_gb_information/twist_cnid/Mo110/43_gb/results',\n",
       " '/homenfs1/yhata/calc/220707/extract_gb_information/twist_cnid/Mo110/51_gb/results',\n",
       " '/homenfs1/yhata/calc/220707/extract_gb_information/twist_cnid/Mo110/57_gb/results',\n",
       " '/homenfs1/yhata/calc/220707/extract_gb_information/twist_cnid/Mo110/59_gb/results',\n",
       " '/homenfs1/yhata/calc/220707/extract_gb_information/twist_cnid/Mo110/67_gb/results',\n",
       " '/homenfs1/yhata/calc/220707/extract_gb_information/twist_cnid/Mo110/73_gb/results',\n",
       " '/homenfs1/yhata/calc/220707/extract_gb_information/twist_cnid/Mo110/81_gb/results',\n",
       " '/homenfs1/yhata/calc/220707/extract_gb_information/twist_cnid/Mo110/83_gb/results',\n",
       " '/homenfs1/yhata/calc/220707/extract_gb_information/twist_cnid/Mo110/89_gb/results',\n",
       " '/homenfs1/yhata/calc/220707/extract_gb_information/twist_cnid/Mo110/97_gb/results',\n",
       " '/homenfs1/yhata/calc/220707/extract_gb_information/twist_cnid/Mo110/99_gb/results',\n",
       " '/homenfs1/yhata/calc/220707/extract_gb_information/twist_cnid/Mo110/9_gb/results',\n",
       " '/homenfs1/yhata/calc/220707/extract_gb_information/twist_cnid/Mo111/13_gb/results',\n",
       " '/homenfs1/yhata/calc/220707/extract_gb_information/twist_cnid/Mo111/19_gb/results',\n",
       " '/homenfs1/yhata/calc/220707/extract_gb_information/twist_cnid/Mo111/21_gb/results',\n",
       " '/homenfs1/yhata/calc/220707/extract_gb_information/twist_cnid/Mo111/31_gb/results',\n",
       " '/homenfs1/yhata/calc/220707/extract_gb_information/twist_cnid/Mo111/37_gb/results',\n",
       " '/homenfs1/yhata/calc/220707/extract_gb_information/twist_cnid/Mo111/39_gb/results',\n",
       " '/homenfs1/yhata/calc/220707/extract_gb_information/twist_cnid/Mo111/3_gb/results',\n",
       " '/homenfs1/yhata/calc/220707/extract_gb_information/twist_cnid/Mo111/43_gb/results',\n",
       " '/homenfs1/yhata/calc/220707/extract_gb_information/twist_cnid/Mo111/49_gb/results',\n",
       " '/homenfs1/yhata/calc/220707/extract_gb_information/twist_cnid/Mo111/57_gb/results',\n",
       " '/homenfs1/yhata/calc/220707/extract_gb_information/twist_cnid/Mo111/61_gb/results',\n",
       " '/homenfs1/yhata/calc/220707/extract_gb_information/twist_cnid/Mo111/67_gb/results',\n",
       " '/homenfs1/yhata/calc/220707/extract_gb_information/twist_cnid/Mo111/73_gb/results',\n",
       " '/homenfs1/yhata/calc/220707/extract_gb_information/twist_cnid/Mo111/79_gb/results',\n",
       " '/homenfs1/yhata/calc/220707/extract_gb_information/twist_cnid/Mo111/7_gb/results',\n",
       " '/homenfs1/yhata/calc/220707/extract_gb_information/twist_cnid/Mo111/91_gb/results',\n",
       " '/homenfs1/yhata/calc/220707/extract_gb_information/twist_cnid/Mo111/93_gb/results',\n",
       " '/homenfs1/yhata/calc/220707/extract_gb_information/twist_cnid/Mo111/97_gb/results']"
      ]
     },
     "execution_count": 7,
     "metadata": {},
     "output_type": "execute_result"
    }
   ],
   "source": [
    "for filename in glob.glob(f\"{savedir_abspath}/*/*/results\"):\n",
    "    os.makedirs()"
   ]
  },
  {
   "cell_type": "code",
   "execution_count": null,
   "id": "019a81b7",
   "metadata": {},
   "outputs": [],
   "source": []
  },
  {
   "cell_type": "code",
   "execution_count": null,
   "id": "b65e679b",
   "metadata": {},
   "outputs": [],
   "source": []
  },
  {
   "cell_type": "code",
   "execution_count": null,
   "id": "007a9f99",
   "metadata": {},
   "outputs": [],
   "source": []
  },
  {
   "cell_type": "code",
   "execution_count": null,
   "id": "081dfa84",
   "metadata": {},
   "outputs": [],
   "source": []
  }
 ],
 "metadata": {
  "kernelspec": {
   "display_name": "Python 3 (ipykernel)",
   "language": "python",
   "name": "python3"
  },
  "language_info": {
   "codemirror_mode": {
    "name": "ipython",
    "version": 3
   },
   "file_extension": ".py",
   "mimetype": "text/x-python",
   "name": "python",
   "nbconvert_exporter": "python",
   "pygments_lexer": "ipython3",
   "version": "3.8.3"
  }
 },
 "nbformat": 4,
 "nbformat_minor": 5
}
