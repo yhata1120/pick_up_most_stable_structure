{
 "cells": [
  {
   "cell_type": "code",
   "execution_count": 1,
   "id": "cb242282",
   "metadata": {},
   "outputs": [],
   "source": [
    "import numpy as np\n",
    "import glob\n",
    "import os\n",
    "import shutil\n",
    "import matplotlib.pyplot as plt"
   ]
  },
  {
   "cell_type": "code",
   "execution_count": 4,
   "id": "887dfff0",
   "metadata": {},
   "outputs": [],
   "source": [
    "def get_stable_structure_cnid(save_dirname):\n",
    "    new_save_dirname = save_dirname + \"_stable\"\n",
    "    save_dir_path = os.path.abspath(save_dirname)\n",
    "    pardirname = os.path.dirname(save_dir_path)\n",
    "    new_save_dirpath = os.path.join(pardirname,new_save_dirname)\n",
    "    os.makedirs(new_save_dirpath,exist_ok=True)\n",
    "    for dirname in glob.glob(f\"{save_dirname}/*gb\"):\n",
    "#         a, b, dx, dy, dz, gbenergy, delta_x = np.loadtxt(f\"{dirname}/results\",unpack=True)\n",
    "        system_energy = np.loadtxt(f\"{dirname}/results\")[:,-1]\n",
    "        gbenergy = np.loadtxt(f\"{dirname}/results\")[:,-2]\n",
    "        a = np.loadtxt(f\"{dirname}/results\")[:,0]\n",
    "        b = np.loadtxt(f\"{dirname}/results\")[:,1]\n",
    "        most_stable_structure = f\"final{int(a[system_energy.argmin()])}_{int(b[system_energy.argmin()])}\"\n",
    "        gbdirname = dirname.split(\"/\")[-1]\n",
    "        print(gbdirname,gbenergy[system_energy.argmin()])\n",
    "        most_stable_structure_path = os.path.join(dirname,most_stable_structure)\n",
    "        new_gbdir_path = os.path.join(new_save_dirpath,gbdirname)\n",
    "        os.makedirs(new_gbdir_path,exist_ok=True)\n",
    "        new_most_stable_structure_path = os.path.join(new_gbdir_path,most_stable_structure)\n",
    "        shutil.copy(most_stable_structure_path,new_most_stable_structure_path)"
   ]
  },
  {
   "cell_type": "code",
   "execution_count": 5,
   "id": "d3f1d338",
   "metadata": {},
   "outputs": [
    {
     "name": "stdout",
     "output_type": "stream",
     "text": [
      "5_2_0_gb 1774.32932417276\n",
      "8_3_0_gb 1708.80269074445\n",
      "13_5_0_gb 1740.98983031065\n",
      "6_1_1_gb 718.079695628403\n",
      "8_1_1_gb 701.692428716252\n",
      "9_2_2_gb 696.041118592631\n"
     ]
    }
   ],
   "source": [
    "get_stable_structure_cnid(\"save_dir\")"
   ]
  },
  {
   "cell_type": "code",
   "execution_count": null,
   "id": "8528a200",
   "metadata": {},
   "outputs": [],
   "source": []
  },
  {
   "cell_type": "code",
   "execution_count": null,
   "id": "d019aebc",
   "metadata": {},
   "outputs": [],
   "source": []
  },
  {
   "cell_type": "code",
   "execution_count": null,
   "id": "fe663fea",
   "metadata": {},
   "outputs": [],
   "source": []
  },
  {
   "cell_type": "code",
   "execution_count": null,
   "id": "019a81b7",
   "metadata": {},
   "outputs": [],
   "source": []
  },
  {
   "cell_type": "code",
   "execution_count": null,
   "id": "b65e679b",
   "metadata": {},
   "outputs": [],
   "source": []
  },
  {
   "cell_type": "code",
   "execution_count": null,
   "id": "007a9f99",
   "metadata": {},
   "outputs": [],
   "source": []
  },
  {
   "cell_type": "code",
   "execution_count": null,
   "id": "081dfa84",
   "metadata": {},
   "outputs": [],
   "source": []
  }
 ],
 "metadata": {
  "kernelspec": {
   "display_name": "Python 3 (ipykernel)",
   "language": "python",
   "name": "python3"
  },
  "language_info": {
   "codemirror_mode": {
    "name": "ipython",
    "version": 3
   },
   "file_extension": ".py",
   "mimetype": "text/x-python",
   "name": "python",
   "nbconvert_exporter": "python",
   "pygments_lexer": "ipython3",
   "version": "3.8.3"
  }
 },
 "nbformat": 4,
 "nbformat_minor": 5
}
